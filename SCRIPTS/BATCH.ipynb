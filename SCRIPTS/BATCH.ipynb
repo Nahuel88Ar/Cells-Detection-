{
 "cells": [
  {
   "cell_type": "code",
   "execution_count": 16,
   "id": "a634dc92",
   "metadata": {},
   "outputs": [],
   "source": [
    "#Glob\n",
    "import glob\n",
    "\n",
    "#Numpy\n",
    "import numpy as np\n",
    "\n",
    "#Panday\n",
    "import pandas as pd\n",
    "\n",
    "#Cv2\n",
    "import cv2\n",
    "\n",
    "#Seaborn\n",
    "import seaborn as sns\n",
    "\n",
    "#Matplotlib\n",
    "import matplotlib as mpl\n",
    "import matplotlib.pyplot as plt\n",
    "%matplotlib inline\n",
    "\n",
    "#Scikit-Image\n",
    "from skimage.measure import label, regionprops, regionprops_table\n",
    "from skimage.transform import rotate\n",
    "from skimage import data, filters, measure, morphology\n",
    "from skimage.io import imread\n",
    "import skimage.color\n",
    "import skimage.io\n",
    "from skimage import io\n",
    "from skimage.util import img_as_ubyte\n",
    "from skimage.segmentation import clear_border\n",
    "\n",
    "#Plotly\n",
    "import plotly\n",
    "import plotly.express as px\n",
    "import plotly.graph_objects as go"
   ]
  },
  {
   "cell_type": "code",
   "execution_count": 17,
   "id": "f34c770b",
   "metadata": {},
   "outputs": [],
   "source": [
    "#Input the path you need.\n",
    "file = 'C:\\\\Users\\\\NAHUELH\\\\Desktop\\\\IMAGES GIT HUB\\\\*.tif'"
   ]
  },
  {
   "cell_type": "code",
   "execution_count": 18,
   "id": "54123255",
   "metadata": {},
   "outputs": [
    {
     "data": {
      "text/plain": [
       "['C:\\\\Users\\\\NAHUELH\\\\Desktop\\\\IMAGES GIT HUB\\\\1.tif',\n",
       " 'C:\\\\Users\\\\NAHUELH\\\\Desktop\\\\IMAGES GIT HUB\\\\2.tif',\n",
       " 'C:\\\\Users\\\\NAHUELH\\\\Desktop\\\\IMAGES GIT HUB\\\\3.tif',\n",
       " 'C:\\\\Users\\\\NAHUELH\\\\Desktop\\\\IMAGES GIT HUB\\\\4.tif',\n",
       " 'C:\\\\Users\\\\NAHUELH\\\\Desktop\\\\IMAGES GIT HUB\\\\5.tif',\n",
       " 'C:\\\\Users\\\\NAHUELH\\\\Desktop\\\\IMAGES GIT HUB\\\\6.tif',\n",
       " 'C:\\\\Users\\\\NAHUELH\\\\Desktop\\\\IMAGES GIT HUB\\\\example_image.tif']"
      ]
     },
     "execution_count": 18,
     "metadata": {},
     "output_type": "execute_result"
    }
   ],
   "source": [
    "glob.glob(file)"
   ]
  },
  {
   "cell_type": "code",
   "execution_count": null,
   "id": "79fea946",
   "metadata": {},
   "outputs": [],
   "source": []
  },
  {
   "cell_type": "code",
   "execution_count": 19,
   "id": "58feefef",
   "metadata": {},
   "outputs": [
    {
     "name": "stdout",
     "output_type": "stream",
     "text": [
      "Given Dataframe :\n",
      "    minor_axis_length  major_axis_length   area    perimeter\n",
      "0         105.173599         208.262109  16394   559.747258\n",
      "1         111.546928         497.459459  40084  1760.237770\n",
      "2         104.945279         275.170091  21561   664.315801\n",
      "3         100.506840         152.823609  11318   442.208153\n",
      "Given Dataframe :\n",
      "    minor_axis_length  major_axis_length   area   perimeter\n",
      "0         112.997201         214.649918  18651  575.244733\n",
      "1         109.667649         200.065439  17005  534.931024\n",
      "2         109.142228         214.186522  18078  564.558441\n",
      "3         109.310913         190.003437  16113  519.144228\n",
      "Given Dataframe :\n",
      "    minor_axis_length  major_axis_length   area   perimeter\n",
      "0         104.918393         275.957000  21603  669.629509\n",
      "1         104.008311         256.668109  20634  627.717821\n",
      "2         103.779606         265.138945  21070  653.309704\n",
      "Given Dataframe :\n",
      "    minor_axis_length  major_axis_length   area   perimeter\n",
      "0         104.591656         245.944233  20010  608.014285\n",
      "1         102.253593         261.915848  20366  642.399062\n",
      "2         107.949698         222.527413  18574  565.109740\n",
      "3         107.198230         235.995748  19523  585.536147\n",
      "4          97.888754         239.170567  17759  619.511760\n",
      "Given Dataframe :\n",
      "    minor_axis_length  major_axis_length   area   perimeter\n",
      "0         118.372097         221.208290  20181  599.564538\n",
      "1         118.844210         209.311584  19349  574.801082\n",
      "Given Dataframe :\n",
      "     minor_axis_length  major_axis_length   area   perimeter\n",
      "0           68.320700         149.718880   7952  375.445743\n",
      "1           67.591081         148.233070   7796  371.303607\n",
      "2           67.121509         145.926158   7623  364.374675\n",
      "3           67.951981         153.827052   8136  383.605122\n",
      "4           68.213140         158.505389   8402  391.688384\n",
      "5           67.433155         142.203967   7480  360.634560\n",
      "6           67.891904         156.177872   8262  385.948268\n",
      "7           68.498569         153.036470   8165  378.492424\n",
      "8           72.304130         138.707297   7802  385.060967\n",
      "9           71.042645         136.475779   7555  374.096500\n",
      "10          71.810921         138.442039   7748  376.439646\n",
      "11          73.577602         142.773221   8179  388.410209\n",
      "12          71.829327         238.997370  13267  567.978751\n",
      "13          72.114779         126.399729   7102  387.362482\n",
      "14          73.917096         177.291918  10179  452.818326\n",
      "Given Dataframe :\n",
      "    minor_axis_length  major_axis_length   area    perimeter\n",
      "0          84.346396         328.775884  21433   764.423448\n",
      "1          85.920212         328.611484  21739   803.245779\n",
      "2          69.892345         324.214480  17263   943.993037\n",
      "3          73.864450         309.041506  17024  1015.513852\n"
     ]
    }
   ],
   "source": [
    "images = [cv2.imread(image) for image in glob.glob(file)]\n",
    "\n",
    "for i in range(0,len(images)):\n",
    "    array = np.array(images[i])\n",
    "    red = array[:,:, 0]\n",
    "    #fig = plt.figure(figsize = (10,10))\n",
    "    #Replace each pixel in an image with a black pixel if the image intensity is less than some fixed constant T-curvature or a white pixel if the image intensity is greater than that constant.\n",
    "    threshold = filters.threshold_otsu(red)\n",
    "    mask =  red<= threshold\n",
    "    #Input minimum size. The smallest allowable object size.\n",
    "    mask = morphology.remove_small_objects(mask, 7000)\n",
    "    #Input areas threshold.The maximum area, in pixels, of a contiguous hole that will be filled.\n",
    "    mask = morphology.remove_small_holes(mask, 7000)\n",
    "    #Two pixels are connected when they are neighbors and have the same value.\n",
    "    labels = measure.label(mask)\n",
    "    #fig = plt.imshow(images[i])\n",
    "    props = measure.regionprops(labels,red)\n",
    "    properties = ['minor_axis_length']\n",
    "        \n",
    "    for index in range(0, labels.max()):\n",
    "        \n",
    "        label_i = props[index].label\n",
    "        contour = measure.find_contours(labels == label_i,0.5)[0]\n",
    "        y, x = contour.T\n",
    "        hoverinfo = ''\n",
    "        \n",
    "        for prop_name in properties:\n",
    "            hoverinfo += f'<b>{prop_name}: {getattr(props[index], prop_name):.2f}</b><br>'\n",
    "            array = np.array(getattr(props[index], prop_name))\n",
    "            #print(array)\n",
    "    #print(images)       \n",
    "    props = regionprops_table(labels, properties = ['minor_axis_length','major_axis_length','area','perimeter'])\n",
    "    df2 = pd.DataFrame(props) \n",
    "    print(\"Given Dataframe :\\n\", df2) \n",
    "df2.to_excel('W:\\\\LAB\\\\Nahuel Ramos\\\\Size reduction data\\\\DATA TABLES\\\\BATCH EXCEL\\\\10.xlsx', index = False)"
   ]
  },
  {
   "cell_type": "code",
   "execution_count": 6,
   "id": "d494411f",
   "metadata": {},
   "outputs": [],
   "source": [
    "#lable_one = np.array(['Diameter'])\n",
    "#df = pd.DataFrame(array.T.reshape(1,-1), columns=lable_one)\n",
    "#print(df)"
   ]
  },
  {
   "cell_type": "code",
   "execution_count": 7,
   "id": "b6d58275",
   "metadata": {},
   "outputs": [],
   "source": [
    "#df.to_excel(r'W:\\\\LAB\\\\Nahuel Ramos\\\\Size reduction data\\\\DATA TABLES\\\\BATCH EXCEL\\\\BS_210404.xlsx', index = False)"
   ]
  },
  {
   "cell_type": "code",
   "execution_count": 8,
   "id": "31e0a1ff",
   "metadata": {},
   "outputs": [],
   "source": [
    "#props = regionprops_table(labels, properties = ['minor_axis_length','major_axis_length','area','perimeter'])\n",
    "\n",
    "#df = pd.DataFrame(props) \n",
    "#print(\"Given Dataframe :\\n\", df) "
   ]
  },
  {
   "cell_type": "code",
   "execution_count": 13,
   "id": "15fb5f99",
   "metadata": {},
   "outputs": [],
   "source": [
    "#df2.to_excel('W:\\\\LAB\\\\Nahuel Ramos\\\\Size reduction data\\\\DATA TABLES\\\\BATCH EXCEL\\\\BS_210404-PERPICTURE.xlsx', index = False)"
   ]
  },
  {
   "cell_type": "code",
   "execution_count": null,
   "id": "8229e179",
   "metadata": {},
   "outputs": [],
   "source": [
    "file = 'W:\\\\LAB\\\\Nahuel Ramos\\\\Size reduction data\\\\IMAGES\\\\Long term - slow\\\\BS\\\\210404_BS\\\\*.tif'"
   ]
  }
 ],
 "metadata": {
  "kernelspec": {
   "display_name": "Python 3",
   "language": "python",
   "name": "python3"
  },
  "language_info": {
   "codemirror_mode": {
    "name": "ipython",
    "version": 3
   },
   "file_extension": ".py",
   "mimetype": "text/x-python",
   "name": "python",
   "nbconvert_exporter": "python",
   "pygments_lexer": "ipython3",
   "version": "3.8.8"
  }
 },
 "nbformat": 4,
 "nbformat_minor": 5
}
